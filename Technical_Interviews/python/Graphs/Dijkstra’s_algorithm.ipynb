{
 "cells": [
  {
   "cell_type": "markdown",
   "id": "06d2e19d-d08c-487e-9500-ef0448a63f00",
   "metadata": {},
   "source": [
    "# Dijkstra’s algorithm"
   ]
  },
  {
   "cell_type": "code",
   "execution_count": null,
   "id": "f39e88f8-aba7-414a-91f3-849bd07211ce",
   "metadata": {},
   "outputs": [],
   "source": []
  }
 ],
 "metadata": {
  "kernelspec": {
   "display_name": "Python 3 (ipykernel)",
   "language": "python",
   "name": "python3"
  },
  "language_info": {
   "codemirror_mode": {
    "name": "ipython",
    "version": 3
   },
   "file_extension": ".py",
   "mimetype": "text/x-python",
   "name": "python",
   "nbconvert_exporter": "python",
   "pygments_lexer": "ipython3",
   "version": "3.10.5"
  }
 },
 "nbformat": 4,
 "nbformat_minor": 5
}
